{
 "cells": [
  {
   "cell_type": "code",
   "execution_count": 4,
   "metadata": {},
   "outputs": [],
   "source": [
    "from langchain_groq import ChatGroq\n",
    "\n",
    "llm = ChatGroq(\n",
    "    temperature=0,\n",
    "    groq_api_key = \"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\",\n",
    "    model_name=\"llama-3.1-70b-versatile\"\n",
    ")"
   ]
  },
  {
   "cell_type": "code",
   "execution_count": 5,
   "metadata": {},
   "outputs": [
    {
     "name": "stdout",
     "output_type": "stream",
     "text": [
      "Ichigo Kurosaki's mother, Masaki Kurosaki, was a Quincy. She was the wife of Isshin Kurosaki, a Shinigami (Soul Reaper), and the mother of Ichigo and his sisters, Yuzu and Karin.\n",
      "\n",
      "Masaki was a member of the Quincy clan, a group of spiritually aware humans who possessed the ability to absorb and manipulate spiritual energy. However, she fell in love with Isshin, who was a Shinigami at the time, and the two got married.\n",
      "\n",
      "Tragically, Masaki was killed by a Hollow, a malevolent spirit, when Ichigo was just a child. This event had a profound impact on Ichigo's life and played a significant role in shaping his personality and motivations.\n",
      "\n",
      "It was later revealed that Masaki's death was not just a random attack by a Hollow, but was actually orchestrated by the Arrancar, Grand Fisher, who was seeking to avenge the Quincy clan's persecution by the Shinigami.\n"
     ]
    }
   ],
   "source": [
    "response=llm.invoke(\"What is Ichigo's mother's history\")\n",
    "print(response.content)"
   ]
  },
  {
   "cell_type": "code",
   "execution_count": 6,
   "metadata": {},
   "outputs": [
    {
     "name": "stderr",
     "output_type": "stream",
     "text": [
      "USER_AGENT environment variable not set, consider setting it to identify your requests.\n"
     ]
    },
    {
     "name": "stdout",
     "output_type": "stream",
     "text": [
      "Apply for Senior Data Engineer, ITC\n",
      "\n",
      "Search JobsSkip navigationSearch JobsNIKE, INC. JOBSContract JobsJoin The Talent CommunityLife @ NikeOverviewBenefitsBrandsOverviewJordanConverseTeamsOverviewAdministrative SupportAdvanced InnovationAir Manufacturing InnovationAviationCommunicationsCustomer ServiceDesignDigitalFacilitiesFinance & AccountingGovernment & Public AffairsHuman ResourcesInsights & AnalyticsLegalManufacturing & EngineeringMarketingMerchandisingPlanningPrivacyProcurementProduct Creation, Development & ManagementRetail CorporateRetail StoresSalesSocial & Community ImpactSports MarketingStrategic PlanningSupply Chain, Distribution & LogisticsSustainabilityTechnologyLocationsOverviewNike WHQNike New York HQEHQ: Hilversum, The NetherlandsELC: Laakdal, BelgiumGreater China HQDiversity, Equity & InclusionOverviewMilitary InclusionDisability InclusionIndigenous InclusionInternshipsData & AnalyticsSenior Data Engineer, ITCKarnataka, IndiaBecome a Part of the NIKE, Inc. Team\n",
      "NIKE, Inc. does more than outfit the world’s best athletes. It is a place to explore potential, obliterate boundaries and push out the edges of what can be. The company looks for people who can grow, think, dream and create. Its culture thrives by embracing diversity and rewarding imagination. The brand seeks achievers, leaders and visionaries. At NIKE, Inc. it’s about each person bringing skills and passion to a challenging and constantly evolving game.WHO YOU'LL WORK WITHA senior data engineer will work in the Data and Artificial Intelligence organisation of Nike and will focus on building highly complex and performant data pipelines that'll drive Nike's data driven strategies for the future of sports.WHO ARE WE LOOKING FORIn this role, we are looking for self driven individuals who have deep technical knowledge in the big data domain. This role requires the individual to be an excellent problem solver who'll design and implement complex data pipelines which solve business problems of Nike.The core competencies required for this role include -Bachelors degree in Computer Science engineering5+ years of hands on experience in data engineering fieldIn depth big data tech stack knowledgeExpertise in pyspark, sql and data modellingExpertise in databricks, snowflake, EMR, airflowPipeline design and architectural skillsetKnowledge on performance tuning of big data pipelinesExcellent written and verbal communication skillsMentoring and guiding skillsWHAT YOU'LL WORK ONAs a senior data engineer you'll be a key pillar of the data engineering team. You'll be driving the overall design of data pipelines and will collaborate closely with other engineers to deliver key changes to data pipelines that drive Nike's data strategyOn a day-to-day basis, you'll focus on -Building, enhancing and troubleshooting complex data pipelinesCollaborating with product managers, engineers, analysts to build, enhance and troubleshoot data pipelinesContribute towards the design and architecture of overall data landscape at NikeCollaborate with lead and principal engineers to define and implement quality standards across data pipelinesCollaborate with engineering leadership to define and implement observability metrics across data pipelinesNIKE, Inc. is a growth company that looks for team members to grow with it. Nike offers a generous total rewards package, casual work environment, a diverse and inclusive culture, and an electric atmosphere for professional development. No matter the location, or the role, every Nike employee shares one galvanizing mission: To bring inspiration and innovation to every athlete* in the world.NIKE, Inc. is committed to employing a diverse workforce. Qualified applicants will receive consideration without regard to race, color, religion, sex, national origin, age, sexual orientation, gender identity, gender expression, veteran status, or disability.How We HireAt NIKE, Inc. we promise to provide a premium, inclusive, compelling and authentic candidate experience. Delivering on this promise means we allow you to be at your best — and to do that, you need to understand how the hiring process works. Transparency is key.\n",
      "\n",
      "* This overview explains our hiring process for corporate roles. Note there may be different hiring steps involved for non-corporate roles.Start nowBenefitsWhether it’s transportation or financial health, we continually invest in our employees to help them achieve greatness — inside and outside of work. All who work here should be able to realize their full potential.Employee Assistance ProgramHolidaysMedical PlanPaid Time Off (PTO)Product DiscountsLearn moreFIND A STOREBECOME A MEMBERSIGN UP FOR EMAILSEND US FEEDBACKSTUDENT DISCOUNTSGET HELPGET HELPOrder StatusDeliveryReturnsPayment OptionsContact Us On Nike.com InquiriesContact Us On All Other InquiriesABOUT NIKEABOUT NIKENewsCareersInvestorsSustainabilityIndia© 2024 Nike, Inc. All Rights ReservedGuidesNike AdaptNike Air MaxNike FlyleatherNike PegasusNike Zoom FlyNike AirNike FlyEaseNike FreeNike ReactNike ZoomXNike Air Force 1Nike FlyknitNike JoyrideNike VaporflyTerms of SaleTerms of UseNike Privacy Policy\n"
     ]
    }
   ],
   "source": [
    "from langchain_community.document_loaders import WebBaseLoader\n",
    "\n",
    "loader = WebBaseLoader(\"https://jobs.nike.com/job/R-39039\")\n",
    "page_data = loader.load().pop().page_content\n",
    "print(page_data)"
   ]
  },
  {
   "cell_type": "code",
   "execution_count": 15,
   "metadata": {},
   "outputs": [
    {
     "name": "stdout",
     "output_type": "stream",
     "text": [
      "{\n",
      "  \"role\": \"Senior Data Engineer, ITC\",\n",
      "  \"experience\": \"5+ years of hands on experience in data engineering field\",\n",
      "  \"skills\": [\n",
      "    \"Bachelors degree in Computer Science engineering\",\n",
      "    \"In depth big data tech stack knowledge\",\n",
      "    \"Expertise in pyspark, sql and data modelling\",\n",
      "    \"Expertise in databricks, snowflake, EMR, airflow\",\n",
      "    \"Pipeline design and architectural skillset\",\n",
      "    \"Knowledge on performance tuning of big data pipelines\",\n",
      "    \"Excellent written and verbal communication skills\",\n",
      "    \"Mentoring and guiding skills\"\n",
      "  ],\n",
      "  \"Description\": \"A senior data engineer will work in the Data and Artificial Intelligence organisation of Nike and will focus on building highly complex and performant data pipelines that'll drive Nike's data driven strategies for the future of sports.\"\n",
      "}\n"
     ]
    }
   ],
   "source": [
    "from langchain_core.prompts import PromptTemplate\n",
    "\n",
    "prompt_extract = PromptTemplate.from_template( \n",
    "     \"\"\"\n",
    "    ### SCRAPED TEXT FROM WEBSITE:\n",
    "    {page_data}\n",
    "    #### INSTRUCTION:\n",
    "    The scraped text is from the career's page of a website.\n",
    "     Your job is to extract the job postings and return them in JSON format containing the following keys : \"role\",\"experience\",\"skills\" and \"Description .Only return the valid json\n",
    "     ### VALID JSON (NO PREAMBLE) and also no ```json ticks         \n",
    "   \n",
    "    #           \n",
    "    \"\"\"\n",
    ")\n",
    "chain_extract = prompt_extract | llm\n",
    "res = chain_extract.invoke({\"page_data\":page_data})\n",
    "print(res.content)"
   ]
  },
  {
   "cell_type": "code",
   "execution_count": 16,
   "metadata": {},
   "outputs": [
    {
     "data": {
      "text/plain": [
       "{'role': 'Senior Data Engineer, ITC',\n",
       " 'experience': '5+ years of hands on experience in data engineering field',\n",
       " 'skills': ['Bachelors degree in Computer Science engineering',\n",
       "  'In depth big data tech stack knowledge',\n",
       "  'Expertise in pyspark, sql and data modelling',\n",
       "  'Expertise in databricks, snowflake, EMR, airflow',\n",
       "  'Pipeline design and architectural skillset',\n",
       "  'Knowledge on performance tuning of big data pipelines',\n",
       "  'Excellent written and verbal communication skills',\n",
       "  'Mentoring and guiding skills'],\n",
       " 'Description': \"A senior data engineer will work in the Data and Artificial Intelligence organisation of Nike and will focus on building highly complex and performant data pipelines that'll drive Nike's data driven strategies for the future of sports.\"}"
      ]
     },
     "execution_count": 16,
     "metadata": {},
     "output_type": "execute_result"
    }
   ],
   "source": [
    "from langchain_core.output_parsers import JsonOutputParser\n",
    "\n",
    "json_parsor = JsonOutputParser()\n",
    "json_res = json_parsor.parse(res.content)\n",
    "json_res"
   ]
  },
  {
   "cell_type": "code",
   "execution_count": 18,
   "metadata": {},
   "outputs": [],
   "source": [
    "import pandas as pd\n",
    "df = pd.read_csv(\"my_portfolio.csv\")"
   ]
  },
  {
   "cell_type": "code",
   "execution_count": 20,
   "metadata": {},
   "outputs": [
    {
     "data": {
      "text/html": [
       "<div>\n",
       "<style scoped>\n",
       "    .dataframe tbody tr th:only-of-type {\n",
       "        vertical-align: middle;\n",
       "    }\n",
       "\n",
       "    .dataframe tbody tr th {\n",
       "        vertical-align: top;\n",
       "    }\n",
       "\n",
       "    .dataframe thead th {\n",
       "        text-align: right;\n",
       "    }\n",
       "</style>\n",
       "<table border=\"1\" class=\"dataframe\">\n",
       "  <thead>\n",
       "    <tr style=\"text-align: right;\">\n",
       "      <th></th>\n",
       "      <th>Techstack</th>\n",
       "      <th>Links</th>\n",
       "    </tr>\n",
       "  </thead>\n",
       "  <tbody>\n",
       "    <tr>\n",
       "      <th>0</th>\n",
       "      <td>React, Node.js, MongoDB</td>\n",
       "      <td>https://example.com/react-portfolio</td>\n",
       "    </tr>\n",
       "    <tr>\n",
       "      <th>1</th>\n",
       "      <td>Angular,.NET, SQL Server</td>\n",
       "      <td>https://example.com/angular-portfolio</td>\n",
       "    </tr>\n",
       "    <tr>\n",
       "      <th>2</th>\n",
       "      <td>Vue.js, Ruby on Rails, PostgreSQL</td>\n",
       "      <td>https://example.com/vue-portfolio</td>\n",
       "    </tr>\n",
       "    <tr>\n",
       "      <th>3</th>\n",
       "      <td>Python, Django, MySQL</td>\n",
       "      <td>https://example.com/python-portfolio</td>\n",
       "    </tr>\n",
       "    <tr>\n",
       "      <th>4</th>\n",
       "      <td>Java, Spring Boot, Oracle</td>\n",
       "      <td>https://example.com/java-portfolio</td>\n",
       "    </tr>\n",
       "  </tbody>\n",
       "</table>\n",
       "</div>"
      ],
      "text/plain": [
       "                           Techstack                                  Links\n",
       "0            React, Node.js, MongoDB    https://example.com/react-portfolio\n",
       "1           Angular,.NET, SQL Server  https://example.com/angular-portfolio\n",
       "2  Vue.js, Ruby on Rails, PostgreSQL      https://example.com/vue-portfolio\n",
       "3              Python, Django, MySQL   https://example.com/python-portfolio\n",
       "4          Java, Spring Boot, Oracle     https://example.com/java-portfolio"
      ]
     },
     "execution_count": 20,
     "metadata": {},
     "output_type": "execute_result"
    }
   ],
   "source": [
    "df.head()"
   ]
  },
  {
   "cell_type": "code",
   "execution_count": 22,
   "metadata": {},
   "outputs": [],
   "source": [
    "import chromadb\n",
    "import uuid\n",
    "\n",
    "client = chromadb.PersistentClient(\"vectorstore\")\n",
    "collection = client.get_or_create_collection(name=\"portfolio\")\n",
    "\n",
    "if not collection.count():\n",
    "    for _, row in df.iterrows():\n",
    "        collection.add(\n",
    "            documents=row[\"Techstack\"],\n",
    "            metadatas={\"links\":row[\"Links\"]},\n",
    "            ids=[str(uuid.uuid4())]\n",
    "        )"
   ]
  },
  {
   "cell_type": "code",
   "execution_count": 35,
   "metadata": {},
   "outputs": [
    {
     "data": {
      "text/plain": [
       "[[{'links': 'https://example.com/ml-python-portfolio'},\n",
       "  {'links': 'https://example.com/python-portfolio'}],\n",
       " [{'links': 'https://example.com/react-native-portfolio'},\n",
       "  {'links': 'https://example.com/react-portfolio'}]]"
      ]
     },
     "execution_count": 35,
     "metadata": {},
     "output_type": "execute_result"
    }
   ],
   "source": [
    "links=collection.query(query_texts=[\"Experience in Python\",\"Experience in React Native\"],n_results = 2).get(\"metadatas\",[])\n",
    "links\n"
   ]
  },
  {
   "cell_type": "code",
   "execution_count": 41,
   "metadata": {},
   "outputs": [],
   "source": [
    "prompt_email = PromptTemplate.from_template(\n",
    "    \"\"\"\n",
    "    ### JOB description\n",
    "    {job_description}\n",
    "    ### INSTRUCTION:\n",
    "        You are Mahesh, a business development executive at CronAi. CronAi is an AI & Software Consulting company dedicated to facilitating\n",
    "        the seamless integration of business processes through automated tools. \n",
    "        Over our experience, we have empowered numerous enterprises with tailored solutions, fostering scalability, \n",
    "        process optimization, cost reduction, and heightened overall efficiency.\n",
    "\n",
    "        Your job is to write a cold email to the client regarding the job mentioned above describing the capability of CronAi technologies \n",
    "        in fulfilling their needs.\n",
    "        Also add the most relevant ones from the following links to showcase CronAi's portfolio: {link_list}\n",
    "        Remember you are Mahesh, BDE at CronAi. \n",
    "        Do not provide a preamble.\n",
    "        ### EMAIL (NO PREAMBLE)\n",
    "    \"\"\"\n",
    ")\n",
    "\n",
    "job = json_res\n",
    "chain_email = prompt_email | llm\n",
    "res = chain_email.invoke({\"job_description\":str(job),\"link_list\":links})\n"
   ]
  },
  {
   "cell_type": "code",
   "execution_count": 42,
   "metadata": {},
   "outputs": [
    {
     "name": "stdout",
     "output_type": "stream",
     "text": [
      "Subject: Expert Data Engineering Solutions for Nike's Data-Driven Strategies\n",
      "\n",
      "Dear Hiring Manager,\n",
      "\n",
      "I came across the Senior Data Engineer, ITC role at Nike and was impressed by the organization's commitment to leveraging data-driven strategies for the future of sports. As a Business Development Executive at CronAi, I'd like to introduce our company as a trusted partner in delivering cutting-edge data engineering solutions.\n",
      "\n",
      "At CronAi, we specialize in designing and implementing scalable, high-performance data pipelines that drive business growth. Our team of experts has extensive experience in big data technologies, including PySpark, SQL, and data modeling. We've successfully developed and deployed data pipelines on various platforms, such as Databricks, Snowflake, EMR, and Airflow.\n",
      "\n",
      "Our expertise in pipeline design and architectural skillset, combined with our knowledge of performance tuning, ensures that our solutions meet the highest standards of efficiency and reliability. We're confident that our capabilities align with Nike's requirements for building complex and performant data pipelines.\n",
      "\n",
      "To demonstrate our capabilities, I'd like to share some relevant examples from our portfolio:\n",
      "\n",
      "* Our expertise in Python-based data engineering solutions can be seen in our [Python Portfolio](https://example.com/python-portfolio).\n",
      "* We've also developed machine learning solutions using Python, which can be viewed in our [ML Python Portfolio](https://example.com/ml-python-portfolio).\n",
      "\n",
      "These examples showcase our ability to deliver tailored solutions that meet the unique needs of our clients. We're excited about the opportunity to collaborate with Nike and contribute to the success of their data-driven initiatives.\n",
      "\n",
      "If you're interested in learning more about our data engineering capabilities and how we can support Nike's goals, I'd be happy to schedule a call to discuss further.\n",
      "\n",
      "Best regards,\n",
      "\n",
      "Mahesh\n",
      "Business Development Executive\n",
      "CronAi\n"
     ]
    }
   ],
   "source": [
    "\n",
    "print(res.content)"
   ]
  },
  {
   "cell_type": "code",
   "execution_count": null,
   "metadata": {},
   "outputs": [],
   "source": []
  }
 ],
 "metadata": {
  "kernelspec": {
   "display_name": "Python 3",
   "language": "python",
   "name": "python3"
  },
  "language_info": {
   "codemirror_mode": {
    "name": "ipython",
    "version": 3
   },
   "file_extension": ".py",
   "mimetype": "text/x-python",
   "name": "python",
   "nbconvert_exporter": "python",
   "pygments_lexer": "ipython3",
   "version": "3.10.3"
  }
 },
 "nbformat": 4,
 "nbformat_minor": 2
}
